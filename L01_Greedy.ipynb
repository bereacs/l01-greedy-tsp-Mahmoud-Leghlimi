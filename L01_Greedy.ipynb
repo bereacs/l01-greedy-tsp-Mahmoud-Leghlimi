{
  "nbformat": 4,
  "nbformat_minor": 0,
  "metadata": {
    "colab": {
      "name": "L01: Greedy.ipynb",
      "provenance": [],
      "include_colab_link": true
    },
    "kernelspec": {
      "name": "python3",
      "display_name": "Python 3"
    }
  },
  "cells": [
    {
      "cell_type": "markdown",
      "metadata": {
        "id": "view-in-github",
        "colab_type": "text"
      },
      "source": [
        "<a href=\"https://colab.research.google.com/github/bereacs/l01-greedy-tsp-Mahmoud-Leghlimi/blob/master/L01_Greedy.ipynb\" target=\"_parent\"><img src=\"https://colab.research.google.com/assets/colab-badge.svg\" alt=\"Open In Colab\"/></a>"
      ]
    },
    {
      "cell_type": "markdown",
      "metadata": {
        "id": "Ws6rXa1xv_gv"
      },
      "source": [
        "# [L01: Implementing Greedy TSP](https://docs.google.com/document/d/1JA_CWBXPN6whvJAemnJLvtYJ3Pbk84dTUolWO_QqosA/edit?usp=sharing)\n",
        "Written by Dr. Jan Pearce, Berea College\n",
        "\n",
        "Complete the code by meeting all linked requirements and fixing all FIXMEs\n",
        "\n",
        "## Your Name: FIXME"
      ]
    },
    {
      "cell_type": "markdown",
      "metadata": {
        "id": "PvEpt0HPKq9X"
      },
      "source": [
        "**SUMMARY**: A brief summary description of the design and implementation, including how much your initial design plan evolved, the final result you achieved and the amount of time you spent as a programmer or programmers in accomplishing these results. This should be no more than two paragraphs.\n",
        "\n",
        "FIXME\n",
        "\n",
        "**PERSONNEL**: A description of who you worked with and on what sections.  It is expected that all collaboration is done as pair programming together. Also, note these collaborations in the code section itself.\n",
        "\n",
        "FIXME\n",
        "\n",
        "**CHALLENGES**: Descriptions of the largest challenges you overcame and what made them challenging.\n",
        "\n",
        "FIXME\n",
        "\n",
        "**INNOVATIONS**: Any innovations that were not specifically required by the assignment. These are not required, but should be highlighted if included.\n",
        "\n",
        "FIXME\n",
        "\n",
        "**TESTING**: Describe how you tested this work.\n",
        "\n",
        "FIXME\n",
        "\n",
        "**ERRORS**: A list in bulleted form of all known errors and deficiencies.\n",
        "\n",
        "FIXME\n",
        "\n",
        "**COMMENTS**: A paragraph or so of your own comments on and reactions to the Lab.\n",
        "\n",
        "FIXME"
      ]
    },
    {
      "cell_type": "markdown",
      "metadata": {
        "id": "lRXe-Atyv30H"
      },
      "source": [
        "## Import Libraries"
      ]
    },
    {
      "cell_type": "code",
      "metadata": {
        "id": "b6koAGG2mhix"
      },
      "source": [
        "import networkx as nx\n",
        "import matplotlib.pyplot as plt\n",
        "import math\n",
        "from urllib.request import urlopen"
      ],
      "execution_count": 6,
      "outputs": []
    },
    {
      "cell_type": "markdown",
      "metadata": {
        "id": "y-JqngNLmhVG"
      },
      "source": [
        "### Read data"
      ]
    },
    {
      "cell_type": "code",
      "metadata": {
        "id": "GzeEKA-nwLsJ",
        "outputId": "4b6b388a-bc66-48cd-95e3-29ec7f194431",
        "colab": {
          "base_uri": "https://localhost:8080/"
        }
      },
      "source": [
        "tspdata = urlopen(\"http://cs.berea.edu/courses/csc445/data/tsp-small.txt\").read().decode('ASCII')\n",
        "print(tspdata)"
      ],
      "execution_count": 7,
      "outputs": [
        {
          "output_type": "stream",
          "name": "stdout",
          "text": [
            "6\r\n",
            "1 5 \r\n",
            "3 7 \r\n",
            "5 11 \r\n",
            "3 5 \r\n",
            "5 7 \r\n",
            "7 9 \r\n",
            "\n"
          ]
        }
      ]
    },
    {
      "cell_type": "markdown",
      "metadata": {
        "id": "qGcB5022KlHL"
      },
      "source": [
        "## TSP Class"
      ]
    },
    {
      "cell_type": "code",
      "metadata": {
        "id": "KIzVOICElISX",
        "outputId": "44bfdc76-dcd0-4da9-bf15-229d15783a64",
        "colab": {
          "base_uri": "https://localhost:8080/",
          "height": 516
        }
      },
      "source": [
        "class TSP:\n",
        "  def __init__(self):\n",
        "      \"\"\"Class for solving the Traveling Salesman Problem using a greedy algorithm.\"\"\"\n",
        "      self.nodeData = []        # raw list of nodes and coordinates\n",
        "      self.graph = nx.DiGraph() # directed graph\n",
        "      self.coords = {}          # {node: (x,y)}\n",
        "      self.places = []          # list of all nodes\n",
        "      self.route = []           # final greedy path\n",
        "\n",
        "  def extractData(self, raw_data):\n",
        "      \"\"\"\n",
        "      Read coordinates from raw data and store them.\n",
        "      Assumes data format: node x y\n",
        "      Example:\n",
        "      1 10 20\n",
        "      2 15 25\n",
        "      \"\"\"\n",
        "      lines = raw_data.strip().split('\\n')\n",
        "      # Skip the first line which is the number of nodes\n",
        "      for line in lines[1:]:\n",
        "          parts = line.strip().split()\n",
        "          if len(parts) == 2: # The provided data seems to have only 2 columns (x, y)\n",
        "              # Assigning node numbers starting from 1\n",
        "              node = len(self.nodeData) + 1\n",
        "              x, y = float(parts[0]), float(parts[1])\n",
        "              self.nodeData.append((node, x, y))\n",
        "          elif len(parts) == 3: # Handle the case with node number\n",
        "              node = int(parts[0])\n",
        "              x, y = float(parts[1]), float(parts[2])\n",
        "              self.nodeData.append((node, x, y))\n",
        "\n",
        "\n",
        "  def setUpCoords(self):\n",
        "      \"\"\"Store coordinates into a dictionary {node: (x, y)}.\"\"\"\n",
        "      for node, x, y in self.nodeData:\n",
        "          self.coords[node] = (x, y)\n",
        "\n",
        "  def calculateDistance(self, a, b):\n",
        "      \"\"\"Return Euclidean distance between points a and b.\"\"\"\n",
        "      return math.sqrt((a[0] - b[0])**2 + (a[1] - b[1])**2)\n",
        "\n",
        "  def listPlaces(self):\n",
        "      \"\"\"Return a list of all nodes.\"\"\"\n",
        "      return list(self.coords.keys())\n",
        "\n",
        "  def getRoute(self, current, visited=None, notVisited=None):\n",
        "      \"\"\"Return greedy route starting from 'current'.\"\"\"\n",
        "      if visited is None:\n",
        "          visited = []\n",
        "      if notVisited is None:\n",
        "          notVisited = self.listPlaces()\n",
        "\n",
        "      visited.append(current)\n",
        "      notVisited = [n for n in notVisited if n != current]\n",
        "\n",
        "      # base case: all nodes visited\n",
        "      if not notVisited:\n",
        "          return visited\n",
        "\n",
        "      # pick closest unvisited node\n",
        "      next_node = min(notVisited, key=lambda n: self.calculateDistance(self.coords[current], self.coords[n]))\n",
        "\n",
        "      return self.getRoute(next_node, visited, notVisited)\n",
        "\n",
        "  def beGreedy(self, start):\n",
        "      \"\"\"Run greedy algorithm and close the cycle.\"\"\"\n",
        "      self.route = self.getRoute(start)\n",
        "      self.route.append(start)  # return to start\n",
        "\n",
        "  def addNodes(self):\n",
        "      \"\"\"Add nodes to the graph.\"\"\"\n",
        "      for node, x, y in self.nodeData:\n",
        "          self.graph.add_node(node, pos=(x, y))\n",
        "\n",
        "\n",
        "  def addEdges(self):\n",
        "      \"\"\"Add edges for the greedy route with weights.\"\"\"\n",
        "      for i in range(len(self.route) - 1):\n",
        "          a, b = self.route[i], self.route[i+1]\n",
        "          dist = self.calculateDistance(self.coords[a], self.coords[b])\n",
        "          self.graph.add_edge(a, b, weight=round(dist, 2))\n",
        "\n",
        "  def showGraph(self):\n",
        "      \"\"\"Display the graph with labels.\"\"\"\n",
        "      pos = nx.get_node_attributes(self.graph, 'pos')\n",
        "      labels = nx.get_edge_attributes(self.graph, 'weight')\n",
        "\n",
        "      nx.draw(self.graph, pos, with_labels=True, node_size=600, node_color=\"skyblue\")\n",
        "      nx.draw_networkx_edge_labels(self.graph, pos, edge_labels=labels)\n",
        "      plt.show()\n",
        "\n",
        "# Main execution\n",
        "tsp = TSP()\n",
        "tsp.extractData(tspdata)\n",
        "tsp.setUpCoords()\n",
        "tsp.addNodes()\n",
        "tsp.beGreedy(1)   # start at node 1\n",
        "tsp.addEdges()\n",
        "tsp.showGraph()"
      ],
      "execution_count": 10,
      "outputs": [
        {
          "output_type": "display_data",
          "data": {
            "text/plain": [
              "<Figure size 640x480 with 1 Axes>"
            ],
            "image/png": "[encoded data removed]"
          },
          "metadata": {}
        }
      ]
    },
    {
      "cell_type": "markdown",
      "metadata": {
        "id": "-6HarsXemeKP"
      },
      "source": []
    }
  ]
}